{
 "cells": [
  {
   "cell_type": "code",
   "execution_count": 1,
   "id": "37e418f3",
   "metadata": {},
   "outputs": [],
   "source": [
    "# Import our dependencies\n",
    "import pandas as pd\n",
    "import matplotlib as plt\n",
    "from sklearn.datasets import make_blobs\n",
    "import sklearn as skl\n",
    "import tensorflow as tf"
   ]
  },
  {
   "cell_type": "code",
   "execution_count": 2,
   "id": "fe5eb4ce",
   "metadata": {},
   "outputs": [
    {
     "data": {
      "text/plain": [
       "<AxesSubplot:xlabel='Feature 1', ylabel='Feature 2'>"
      ]
     },
     "execution_count": 2,
     "metadata": {},
     "output_type": "execute_result"
    },
    {
     "data": {
      "image/png": "[encoded data removed]",
      "text/plain": [
       "<Figure size 432x288 with 2 Axes>"
      ]
     },
     "metadata": {
      "needs_background": "light"
     },
     "output_type": "display_data"
    }
   ],
   "source": [
    "# Generate dummy dataset\n",
    "X, y = make_blobs(n_samples=1000, centers=2, n_features=2, random_state=78)\n",
    "\n",
    "# Creating a DataFrame with the dummy data\n",
    "df = pd.DataFrame(X, columns=[\"Feature 1\", \"Feature 2\"])\n",
    "df[\"Target\"] = y\n",
    "\n",
    "# Plotting the dummy data\n",
    "df.plot.scatter(x=\"Feature 1\", y=\"Feature 2\", c=\"Target\", colormap=\"winter\")"
   ]
  },
  {
   "cell_type": "code",
   "execution_count": 3,
   "id": "541416de",
   "metadata": {},
   "outputs": [],
   "source": [
    "# Use sklearn to split dataset\n",
    "from sklearn.model_selection import train_test_split\n",
    "X_train, X_test, y_train, y_test = train_test_split(X, y, random_state=78)"
   ]
  },
  {
   "cell_type": "code",
   "execution_count": 4,
   "id": "6cc5dfde",
   "metadata": {},
   "outputs": [],
   "source": [
    "# Create scaler instance\n",
    "X_scaler = skl.preprocessing.StandardScaler()\n",
    "\n",
    "# Fit the scaler\n",
    "X_scaler.fit(X_train)\n",
    "\n",
    "# Scale the data\n",
    "X_train_scaled = X_scaler.transform(X_train)\n",
    "X_test_scaled = X_scaler.transform(X_test)"
   ]
  },
  {
   "cell_type": "code",
   "execution_count": 5,
   "id": "2ec554bf",
   "metadata": {},
   "outputs": [],
   "source": [
    "# Create the Keras Sequential model\n",
    "nn_model = tf.keras.models.Sequential()"
   ]
  },
  {
   "cell_type": "code",
   "execution_count": 6,
   "id": "cdf6c83c",
   "metadata": {},
   "outputs": [],
   "source": [
    "# Add our first Dense layer, including the input layer\n",
    "nn_model.add(tf.keras.layers.Dense(units=1, activation=\"relu\", input_dim=2))"
   ]
  },
  {
   "cell_type": "code",
   "execution_count": 7,
   "id": "68edf7fb",
   "metadata": {},
   "outputs": [],
   "source": [
    "# Add the output layer that uses a probability activation function\n",
    "nn_model.add(tf.keras.layers.Dense(units=1, activation=\"sigmoid\"))"
   ]
  },
  {
   "cell_type": "code",
   "execution_count": 8,
   "id": "37012d87",
   "metadata": {},
   "outputs": [
    {
     "name": "stdout",
     "output_type": "stream",
     "text": [
      "Model: \"sequential\"\n",
      "_________________________________________________________________\n",
      " Layer (type)                Output Shape              Param #   \n",
      "=================================================================\n",
      " dense (Dense)               (None, 1)                 3         \n",
      "                                                                 \n",
      " dense_1 (Dense)             (None, 1)                 2         \n",
      "                                                                 \n",
      "=================================================================\n",
      "Total params: 5\n",
      "Trainable params: 5\n",
      "Non-trainable params: 0\n",
      "_________________________________________________________________\n"
     ]
    }
   ],
   "source": [
    "# Check the structure of the Sequential model\n",
    "nn_model.summary()"
   ]
  },
  {
   "cell_type": "code",
   "execution_count": 9,
   "id": "134fbc13",
   "metadata": {},
   "outputs": [],
   "source": [
    "# Compile the Sequential model together and customize metrics\n",
    "nn_model.compile(loss=\"binary_crossentropy\", optimizer=\"adam\", metrics=[\"accuracy\"])"
   ]
  },
  {
   "cell_type": "code",
   "execution_count": 10,
   "id": "b86b626d",
   "metadata": {},
   "outputs": [
    {
     "name": "stdout",
     "output_type": "stream",
     "text": [
      "Epoch 1/100\n",
      "24/24 [==============================] - 0s 699us/step - loss: 1.5640 - accuracy: 0.0507\n",
      "Epoch 2/100\n",
      "24/24 [==============================] - 0s 696us/step - loss: 1.5039 - accuracy: 0.0333\n",
      "Epoch 3/100\n",
      "24/24 [==============================] - 0s 695us/step - loss: 1.4483 - accuracy: 0.0347\n",
      "Epoch 4/100\n",
      "24/24 [==============================] - 0s 714us/step - loss: 1.3944 - accuracy: 0.0360\n",
      "Epoch 5/100\n",
      "24/24 [==============================] - 0s 696us/step - loss: 1.3453 - accuracy: 0.0387\n",
      "Epoch 6/100\n",
      "24/24 [==============================] - 0s 739us/step - loss: 1.2970 - accuracy: 0.0400\n",
      "Epoch 7/100\n",
      "24/24 [==============================] - 0s 757us/step - loss: 1.2535 - accuracy: 0.0400\n",
      "Epoch 8/100\n",
      "24/24 [==============================] - 0s 652us/step - loss: 1.2111 - accuracy: 0.0493\n",
      "Epoch 9/100\n",
      "24/24 [==============================] - 0s 696us/step - loss: 1.1722 - accuracy: 0.0560\n",
      "Epoch 10/100\n",
      "24/24 [==============================] - 0s 652us/step - loss: 1.1353 - accuracy: 0.0587\n",
      "Epoch 11/100\n",
      "24/24 [==============================] - 0s 652us/step - loss: 1.1016 - accuracy: 0.0653\n",
      "Epoch 12/100\n",
      "24/24 [==============================] - 0s 696us/step - loss: 1.0698 - accuracy: 0.0733\n",
      "Epoch 13/100\n",
      "24/24 [==============================] - 0s 671us/step - loss: 1.0404 - accuracy: 0.0787\n",
      "Epoch 14/100\n",
      "24/24 [==============================] - 0s 652us/step - loss: 1.0137 - accuracy: 0.0880\n",
      "Epoch 15/100\n",
      "24/24 [==============================] - 0s 696us/step - loss: 0.9880 - accuracy: 0.0960\n",
      "Epoch 16/100\n",
      "24/24 [==============================] - 0s 652us/step - loss: 0.9645 - accuracy: 0.1093\n",
      "Epoch 17/100\n",
      "24/24 [==============================] - 0s 652us/step - loss: 0.9429 - accuracy: 0.1200\n",
      "Epoch 18/100\n",
      "24/24 [==============================] - 0s 652us/step - loss: 0.9231 - accuracy: 0.1307\n",
      "Epoch 19/100\n",
      "24/24 [==============================] - 0s 652us/step - loss: 0.9043 - accuracy: 0.1453\n",
      "Epoch 20/100\n",
      "24/24 [==============================] - 0s 696us/step - loss: 0.8872 - accuracy: 0.1560\n",
      "Epoch 21/100\n",
      "24/24 [==============================] - 0s 652us/step - loss: 0.8711 - accuracy: 0.1667\n",
      "Epoch 22/100\n",
      "24/24 [==============================] - 0s 652us/step - loss: 0.8562 - accuracy: 0.1813\n",
      "Epoch 23/100\n",
      "24/24 [==============================] - 0s 696us/step - loss: 0.8425 - accuracy: 0.1920\n",
      "Epoch 24/100\n",
      "24/24 [==============================] - 0s 696us/step - loss: 0.8300 - accuracy: 0.1973\n",
      "Epoch 25/100\n",
      "24/24 [==============================] - 0s 695us/step - loss: 0.8183 - accuracy: 0.2027\n",
      "Epoch 26/100\n",
      "24/24 [==============================] - 0s 710us/step - loss: 0.8074 - accuracy: 0.2120\n",
      "Epoch 27/100\n",
      "24/24 [==============================] - 0s 652us/step - loss: 0.7975 - accuracy: 0.2280\n",
      "Epoch 28/100\n",
      "24/24 [==============================] - 0s 696us/step - loss: 0.7881 - accuracy: 0.2440\n",
      "Epoch 29/100\n",
      "24/24 [==============================] - 0s 696us/step - loss: 0.7795 - accuracy: 0.2533\n",
      "Epoch 30/100\n",
      "24/24 [==============================] - 0s 656us/step - loss: 0.7715 - accuracy: 0.2707\n",
      "Epoch 31/100\n",
      "24/24 [==============================] - 0s 692us/step - loss: 0.7639 - accuracy: 0.2827\n",
      "Epoch 32/100\n",
      "24/24 [==============================] - 0s 696us/step - loss: 0.7569 - accuracy: 0.2987\n",
      "Epoch 33/100\n",
      "24/24 [==============================] - 0s 870us/step - loss: 0.7501 - accuracy: 0.3240\n",
      "Epoch 34/100\n",
      "24/24 [==============================] - 0s 739us/step - loss: 0.7441 - accuracy: 0.3413\n",
      "Epoch 35/100\n",
      "24/24 [==============================] - 0s 770us/step - loss: 0.7384 - accuracy: 0.3480\n",
      "Epoch 36/100\n",
      "24/24 [==============================] - 0s 739us/step - loss: 0.7334 - accuracy: 0.3600\n",
      "Epoch 37/100\n",
      "24/24 [==============================] - 0s 739us/step - loss: 0.7288 - accuracy: 0.3720\n",
      "Epoch 38/100\n",
      "24/24 [==============================] - 0s 652us/step - loss: 0.7247 - accuracy: 0.3827\n",
      "Epoch 39/100\n",
      "24/24 [==============================] - 0s 652us/step - loss: 0.7212 - accuracy: 0.3893\n",
      "Epoch 40/100\n",
      "24/24 [==============================] - 0s 652us/step - loss: 0.7184 - accuracy: 0.3933\n",
      "Epoch 41/100\n",
      "24/24 [==============================] - 0s 647us/step - loss: 0.7158 - accuracy: 0.4027\n",
      "Epoch 42/100\n",
      "24/24 [==============================] - 0s 653us/step - loss: 0.7135 - accuracy: 0.4093\n",
      "Epoch 43/100\n",
      "24/24 [==============================] - 0s 652us/step - loss: 0.7114 - accuracy: 0.4133\n",
      "Epoch 44/100\n",
      "24/24 [==============================] - 0s 652us/step - loss: 0.7096 - accuracy: 0.4187\n",
      "Epoch 45/100\n",
      "24/24 [==============================] - 0s 653us/step - loss: 0.7080 - accuracy: 0.4213\n",
      "Epoch 46/100\n",
      "24/24 [==============================] - 0s 611us/step - loss: 0.7065 - accuracy: 0.4280\n",
      "Epoch 47/100\n",
      "24/24 [==============================] - 0s 652us/step - loss: 0.7051 - accuracy: 0.4373\n",
      "Epoch 48/100\n",
      "24/24 [==============================] - 0s 652us/step - loss: 0.7039 - accuracy: 0.4413\n",
      "Epoch 49/100\n",
      "24/24 [==============================] - 0s 741us/step - loss: 0.7027 - accuracy: 0.4453\n",
      "Epoch 50/100\n",
      "24/24 [==============================] - 0s 652us/step - loss: 0.7017 - accuracy: 0.4453\n",
      "Epoch 51/100\n",
      "24/24 [==============================] - 0s 652us/step - loss: 0.7009 - accuracy: 0.4467\n",
      "Epoch 52/100\n",
      "24/24 [==============================] - 0s 652us/step - loss: 0.7000 - accuracy: 0.4467\n",
      "Epoch 53/100\n",
      "24/24 [==============================] - 0s 667us/step - loss: 0.6993 - accuracy: 0.4520\n",
      "Epoch 54/100\n",
      "24/24 [==============================] - 0s 692us/step - loss: 0.6987 - accuracy: 0.4520\n",
      "Epoch 55/100\n",
      "24/24 [==============================] - 0s 739us/step - loss: 0.6981 - accuracy: 0.4520\n",
      "Epoch 56/100\n",
      "24/24 [==============================] - 0s 696us/step - loss: 0.6977 - accuracy: 0.4547\n",
      "Epoch 57/100\n",
      "24/24 [==============================] - 0s 673us/step - loss: 0.6972 - accuracy: 0.4560\n",
      "Epoch 58/100\n",
      "24/24 [==============================] - 0s 652us/step - loss: 0.6967 - accuracy: 0.4587\n",
      "Epoch 59/100\n",
      "24/24 [==============================] - 0s 696us/step - loss: 0.6964 - accuracy: 0.4653\n",
      "Epoch 60/100\n",
      "24/24 [==============================] - 0s 652us/step - loss: 0.6960 - accuracy: 0.4667\n",
      "Epoch 61/100\n",
      "24/24 [==============================] - 0s 652us/step - loss: 0.6957 - accuracy: 0.4693\n",
      "Epoch 62/100\n",
      "24/24 [==============================] - 0s 652us/step - loss: 0.6954 - accuracy: 0.4707\n",
      "Epoch 63/100\n",
      "24/24 [==============================] - 0s 653us/step - loss: 0.6952 - accuracy: 0.4707\n",
      "Epoch 64/100\n",
      "24/24 [==============================] - 0s 653us/step - loss: 0.6950 - accuracy: 0.4733\n",
      "Epoch 65/100\n",
      "24/24 [==============================] - 0s 698us/step - loss: 0.6949 - accuracy: 0.4760\n",
      "Epoch 66/100\n",
      "24/24 [==============================] - 0s 609us/step - loss: 0.6947 - accuracy: 0.4773\n",
      "Epoch 67/100\n",
      "24/24 [==============================] - 0s 652us/step - loss: 0.6945 - accuracy: 0.4773\n",
      "Epoch 68/100\n",
      "24/24 [==============================] - 0s 652us/step - loss: 0.6944 - accuracy: 0.4787\n",
      "Epoch 69/100\n",
      "24/24 [==============================] - 0s 609us/step - loss: 0.6943 - accuracy: 0.4787\n",
      "Epoch 70/100\n",
      "24/24 [==============================] - 0s 652us/step - loss: 0.6943 - accuracy: 0.4787\n",
      "Epoch 71/100\n",
      "24/24 [==============================] - 0s 696us/step - loss: 0.6942 - accuracy: 0.4787\n",
      "Epoch 72/100\n",
      "24/24 [==============================] - 0s 640us/step - loss: 0.6941 - accuracy: 0.4800\n",
      "Epoch 73/100\n",
      "24/24 [==============================] - 0s 609us/step - loss: 0.6940 - accuracy: 0.4813\n",
      "Epoch 74/100\n",
      "24/24 [==============================] - 0s 652us/step - loss: 0.6940 - accuracy: 0.4827\n",
      "Epoch 75/100\n",
      "24/24 [==============================] - 0s 646us/step - loss: 0.6939 - accuracy: 0.4827\n",
      "Epoch 76/100\n",
      "24/24 [==============================] - 0s 652us/step - loss: 0.6939 - accuracy: 0.4813\n",
      "Epoch 77/100\n",
      "24/24 [==============================] - 0s 652us/step - loss: 0.6938 - accuracy: 0.5067\n",
      "Epoch 78/100\n",
      "24/24 [==============================] - 0s 696us/step - loss: 0.6938 - accuracy: 0.5067\n",
      "Epoch 79/100\n",
      "24/24 [==============================] - 0s 653us/step - loss: 0.6938 - accuracy: 0.5067\n",
      "Epoch 80/100\n",
      "24/24 [==============================] - 0s 652us/step - loss: 0.6938 - accuracy: 0.5067\n",
      "Epoch 81/100\n"
     ]
    },
    {
     "name": "stdout",
     "output_type": "stream",
     "text": [
      "24/24 [==============================] - 0s 652us/step - loss: 0.6937 - accuracy: 0.5067\n",
      "Epoch 82/100\n",
      "24/24 [==============================] - 0s 652us/step - loss: 0.6937 - accuracy: 0.5067\n",
      "Epoch 83/100\n",
      "24/24 [==============================] - 0s 652us/step - loss: 0.6937 - accuracy: 0.5067\n",
      "Epoch 84/100\n",
      "24/24 [==============================] - 0s 652us/step - loss: 0.6937 - accuracy: 0.5067\n",
      "Epoch 85/100\n",
      "24/24 [==============================] - 0s 652us/step - loss: 0.6936 - accuracy: 0.5067\n",
      "Epoch 86/100\n",
      "24/24 [==============================] - 0s 652us/step - loss: 0.6936 - accuracy: 0.5067\n",
      "Epoch 87/100\n",
      "24/24 [==============================] - 0s 687us/step - loss: 0.6936 - accuracy: 0.5067\n",
      "Epoch 88/100\n",
      "24/24 [==============================] - 0s 654us/step - loss: 0.6936 - accuracy: 0.5067\n",
      "Epoch 89/100\n",
      "24/24 [==============================] - 0s 653us/step - loss: 0.6936 - accuracy: 0.5067\n",
      "Epoch 90/100\n",
      "24/24 [==============================] - 0s 696us/step - loss: 0.6936 - accuracy: 0.5067\n",
      "Epoch 91/100\n",
      "24/24 [==============================] - 0s 612us/step - loss: 0.6936 - accuracy: 0.5067\n",
      "Epoch 92/100\n",
      "24/24 [==============================] - 0s 687us/step - loss: 0.6935 - accuracy: 0.5067\n",
      "Epoch 93/100\n",
      "24/24 [==============================] - 0s 653us/step - loss: 0.6935 - accuracy: 0.5067\n",
      "Epoch 94/100\n",
      "24/24 [==============================] - 0s 692us/step - loss: 0.6935 - accuracy: 0.5067\n",
      "Epoch 95/100\n",
      "24/24 [==============================] - 0s 696us/step - loss: 0.6935 - accuracy: 0.5067\n",
      "Epoch 96/100\n",
      "24/24 [==============================] - 0s 696us/step - loss: 0.6935 - accuracy: 0.5067\n",
      "Epoch 97/100\n",
      "24/24 [==============================] - 0s 652us/step - loss: 0.6935 - accuracy: 0.5067\n",
      "Epoch 98/100\n",
      "24/24 [==============================] - 0s 696us/step - loss: 0.6935 - accuracy: 0.5067\n",
      "Epoch 99/100\n",
      "24/24 [==============================] - 0s 695us/step - loss: 0.6935 - accuracy: 0.5067\n",
      "Epoch 100/100\n",
      "24/24 [==============================] - 0s 652us/step - loss: 0.6935 - accuracy: 0.5067\n"
     ]
    }
   ],
   "source": [
    "# Fit the model to the training data\n",
    "fit_model = nn_model.fit(X_train_scaled, y_train, epochs=100)"
   ]
  },
  {
   "cell_type": "code",
   "execution_count": 11,
   "id": "b6cb4dfa",
   "metadata": {},
   "outputs": [
    {
     "data": {
      "text/plain": [
       "<AxesSubplot:>"
      ]
     },
     "execution_count": 11,
     "metadata": {},
     "output_type": "execute_result"
    },
    {
     "data": {
      "image/png": "[encoded data removed]",
      "text/plain": [
       "<Figure size 432x288 with 1 Axes>"
      ]
     },
     "metadata": {
      "needs_background": "light"
     },
     "output_type": "display_data"
    }
   ],
   "source": [
    "# Create a DataFrame containing training history\n",
    "history_df = pd.DataFrame(fit_model.history, index=range(1,len(fit_model.history[\"loss\"])+1))\n",
    "\n",
    "# Plot the loss\n",
    "history_df.plot(y=\"loss\")"
   ]
  },
  {
   "cell_type": "code",
   "execution_count": 12,
   "id": "de1cf754",
   "metadata": {},
   "outputs": [
    {
     "data": {
      "text/plain": [
       "<AxesSubplot:>"
      ]
     },
     "execution_count": 12,
     "metadata": {},
     "output_type": "execute_result"
    },
    {
     "data": {
      "image/png": "[encoded data removed]",
      "text/plain": [
       "<Figure size 432x288 with 1 Axes>"
      ]
     },
     "metadata": {
      "needs_background": "light"
     },
     "output_type": "display_data"
    }
   ],
   "source": [
    "# Plot the accuracy\n",
    "history_df.plot(y=\"accuracy\")"
   ]
  },
  {
   "cell_type": "code",
   "execution_count": 13,
   "id": "58517b3f",
   "metadata": {},
   "outputs": [
    {
     "name": "stdout",
     "output_type": "stream",
     "text": [
      "8/8 - 0s - loss: 0.6936 - accuracy: 0.4800 - 104ms/epoch - 13ms/step\n",
      "Loss: 0.6935634016990662, Accuracy: 0.47999998927116394\n"
     ]
    }
   ],
   "source": [
    "# Evaluate the model using the test data\n",
    "model_loss, model_accuracy = nn_model.evaluate(X_test_scaled,y_test,verbose=2)\n",
    "print(f\"Loss: {model_loss}, Accuracy: {model_accuracy}\")"
   ]
  },
  {
   "cell_type": "code",
   "execution_count": 14,
   "id": "ed5cb59d",
   "metadata": {},
   "outputs": [
    {
     "name": "stdout",
     "output_type": "stream",
     "text": [
      "1/1 [==============================] - 0s 54ms/step\n"
     ]
    },
    {
     "data": {
      "text/plain": [
       "array([[0],\n",
       "       [0],\n",
       "       [0],\n",
       "       [0],\n",
       "       [0],\n",
       "       [0],\n",
       "       [0],\n",
       "       [0],\n",
       "       [0],\n",
       "       [0]])"
      ]
     },
     "execution_count": 14,
     "metadata": {},
     "output_type": "execute_result"
    }
   ],
   "source": [
    "# Predict the classification of a new set of blob data\n",
    "new_X, new_Y = make_blobs(n_samples=10, centers=2, n_features=2, random_state=78)\n",
    "new_X_scaled = X_scaler.transform(new_X)\n",
    "(nn_model.predict(new_X_scaled) > 0.5).astype(\"int32\")"
   ]
  },
  {
   "cell_type": "code",
   "execution_count": 15,
   "id": "0c0b6ae8",
   "metadata": {},
   "outputs": [
    {
     "data": {
      "text/plain": [
       "<AxesSubplot:xlabel='Feature 1', ylabel='Feature 2'>"
      ]
     },
     "execution_count": 15,
     "metadata": {},
     "output_type": "execute_result"
    },
    {
     "data": {
      "image/png": "[encoded data removed]",
      "text/plain": [
       "<Figure size 432x288 with 2 Axes>"
      ]
     },
     "metadata": {
      "needs_background": "light"
     },
     "output_type": "display_data"
    }
   ],
   "source": [
    "from sklearn.datasets import make_moons\n",
    "\n",
    "# Creating dummy nonlinear data\n",
    "X_moons, y_moons = make_moons(n_samples=1000, noise=0.08, random_state=78)\n",
    "\n",
    "# Transforming y_moons to a vertical vector\n",
    "y_moons = y_moons.reshape(-1, 1)\n",
    "\n",
    "# Creating a DataFrame to plot the nonlinear dummy data\n",
    "df_moons = pd.DataFrame(X_moons, columns=[\"Feature 1\", \"Feature 2\"])\n",
    "df_moons[\"Target\"] = y_moons\n",
    "\n",
    "# Plot the nonlinear dummy data\n",
    "df_moons.plot.scatter(x=\"Feature 1\",y=\"Feature 2\", c=\"Target\",colormap=\"winter\")\n"
   ]
  },
  {
   "cell_type": "code",
   "execution_count": 16,
   "id": "4f48c184",
   "metadata": {},
   "outputs": [],
   "source": [
    "# Create training and testing sets\n",
    "X_moon_train, X_moon_test, y_moon_train, y_moon_test = train_test_split(\n",
    "    X_moons, y_moons, random_state=78\n",
    ")\n",
    "\n",
    "# Create the scaler instance\n",
    "X_moon_scaler = skl.preprocessing.StandardScaler()\n",
    "\n",
    "# Fit the scaler\n",
    "X_moon_scaler.fit(X_moon_train)\n",
    "\n",
    "# Scale the data\n",
    "X_moon_train_scaled = X_moon_scaler.transform(X_moon_train)\n",
    "X_moon_test_scaled = X_moon_scaler.transform(X_moon_test)"
   ]
  },
  {
   "cell_type": "code",
   "execution_count": 17,
   "id": "e397b544",
   "metadata": {},
   "outputs": [
    {
     "name": "stdout",
     "output_type": "stream",
     "text": [
      "Epoch 1/100\n",
      "24/24 [==============================] - 0s 696us/step - loss: 0.6927 - accuracy: 0.5307\n",
      "Epoch 2/100\n",
      "24/24 [==============================] - 0s 696us/step - loss: 0.6925 - accuracy: 0.5307\n",
      "Epoch 3/100\n",
      "24/24 [==============================] - 0s 696us/step - loss: 0.6924 - accuracy: 0.5307\n",
      "Epoch 4/100\n",
      "24/24 [==============================] - 0s 739us/step - loss: 0.6923 - accuracy: 0.5307\n",
      "Epoch 5/100\n",
      "24/24 [==============================] - 0s 716us/step - loss: 0.6921 - accuracy: 0.5307\n",
      "Epoch 6/100\n",
      "24/24 [==============================] - 0s 696us/step - loss: 0.6920 - accuracy: 0.5307\n",
      "Epoch 7/100\n",
      "24/24 [==============================] - 0s 739us/step - loss: 0.6920 - accuracy: 0.5307\n",
      "Epoch 8/100\n",
      "24/24 [==============================] - 0s 652us/step - loss: 0.6919 - accuracy: 0.5307\n",
      "Epoch 9/100\n",
      "24/24 [==============================] - 0s 696us/step - loss: 0.6918 - accuracy: 0.5307\n",
      "Epoch 10/100\n",
      "24/24 [==============================] - 0s 658us/step - loss: 0.6917 - accuracy: 0.5307\n",
      "Epoch 11/100\n",
      "24/24 [==============================] - 0s 698us/step - loss: 0.6917 - accuracy: 0.5307\n",
      "Epoch 12/100\n",
      "24/24 [==============================] - 0s 738us/step - loss: 0.6916 - accuracy: 0.5307\n",
      "Epoch 13/100\n",
      "24/24 [==============================] - 0s 655us/step - loss: 0.6916 - accuracy: 0.5307\n",
      "Epoch 14/100\n",
      "24/24 [==============================] - 0s 696us/step - loss: 0.6915 - accuracy: 0.5307\n",
      "Epoch 15/100\n",
      "24/24 [==============================] - 0s 695us/step - loss: 0.6915 - accuracy: 0.5307\n",
      "Epoch 16/100\n",
      "24/24 [==============================] - 0s 695us/step - loss: 0.6915 - accuracy: 0.5307\n",
      "Epoch 17/100\n",
      "24/24 [==============================] - 0s 739us/step - loss: 0.6914 - accuracy: 0.5307\n",
      "Epoch 18/100\n",
      "24/24 [==============================] - 0s 739us/step - loss: 0.6914 - accuracy: 0.5307\n",
      "Epoch 19/100\n",
      "24/24 [==============================] - 0s 653us/step - loss: 0.6914 - accuracy: 0.5307\n",
      "Epoch 20/100\n",
      "24/24 [==============================] - 0s 696us/step - loss: 0.6914 - accuracy: 0.5307\n",
      "Epoch 21/100\n",
      "24/24 [==============================] - 0s 696us/step - loss: 0.6914 - accuracy: 0.5307\n",
      "Epoch 22/100\n",
      "24/24 [==============================] - 0s 740us/step - loss: 0.6914 - accuracy: 0.5307\n",
      "Epoch 23/100\n",
      "24/24 [==============================] - 0s 698us/step - loss: 0.6914 - accuracy: 0.5307\n",
      "Epoch 24/100\n",
      "24/24 [==============================] - 0s 695us/step - loss: 0.6913 - accuracy: 0.5307\n",
      "Epoch 25/100\n",
      "24/24 [==============================] - 0s 696us/step - loss: 0.6913 - accuracy: 0.5307\n",
      "Epoch 26/100\n",
      "24/24 [==============================] - 0s 695us/step - loss: 0.6913 - accuracy: 0.5307\n",
      "Epoch 27/100\n",
      "24/24 [==============================] - 0s 654us/step - loss: 0.6913 - accuracy: 0.5307\n",
      "Epoch 28/100\n",
      "24/24 [==============================] - 0s 696us/step - loss: 0.6913 - accuracy: 0.5307\n",
      "Epoch 29/100\n",
      "24/24 [==============================] - 0s 651us/step - loss: 0.6913 - accuracy: 0.5307\n",
      "Epoch 30/100\n",
      "24/24 [==============================] - 0s 695us/step - loss: 0.6913 - accuracy: 0.5307\n",
      "Epoch 31/100\n",
      "24/24 [==============================] - 0s 652us/step - loss: 0.6913 - accuracy: 0.5307\n",
      "Epoch 32/100\n",
      "24/24 [==============================] - 0s 679us/step - loss: 0.6913 - accuracy: 0.5307\n",
      "Epoch 33/100\n",
      "24/24 [==============================] - 0s 653us/step - loss: 0.6913 - accuracy: 0.5307\n",
      "Epoch 34/100\n",
      "24/24 [==============================] - 0s 654us/step - loss: 0.6914 - accuracy: 0.5307\n",
      "Epoch 35/100\n",
      "24/24 [==============================] - 0s 652us/step - loss: 0.6913 - accuracy: 0.5307\n",
      "Epoch 36/100\n",
      "24/24 [==============================] - 0s 652us/step - loss: 0.6913 - accuracy: 0.5307\n",
      "Epoch 37/100\n",
      "24/24 [==============================] - 0s 696us/step - loss: 0.6913 - accuracy: 0.5307\n",
      "Epoch 38/100\n",
      "24/24 [==============================] - 0s 652us/step - loss: 0.6913 - accuracy: 0.5307\n",
      "Epoch 39/100\n",
      "24/24 [==============================] - 0s 652us/step - loss: 0.6913 - accuracy: 0.5307\n",
      "Epoch 40/100\n",
      "24/24 [==============================] - 0s 687us/step - loss: 0.6913 - accuracy: 0.5307\n",
      "Epoch 41/100\n",
      "24/24 [==============================] - 0s 652us/step - loss: 0.6913 - accuracy: 0.5307\n",
      "Epoch 42/100\n",
      "24/24 [==============================] - 0s 652us/step - loss: 0.6913 - accuracy: 0.5307\n",
      "Epoch 43/100\n",
      "24/24 [==============================] - 0s 652us/step - loss: 0.6913 - accuracy: 0.5307\n",
      "Epoch 44/100\n",
      "24/24 [==============================] - 0s 696us/step - loss: 0.6913 - accuracy: 0.5307\n",
      "Epoch 45/100\n",
      "24/24 [==============================] - 0s 610us/step - loss: 0.6913 - accuracy: 0.5307\n",
      "Epoch 46/100\n",
      "24/24 [==============================] - 0s 649us/step - loss: 0.6913 - accuracy: 0.5307\n",
      "Epoch 47/100\n",
      "24/24 [==============================] - 0s 609us/step - loss: 0.6914 - accuracy: 0.5307\n",
      "Epoch 48/100\n",
      "24/24 [==============================] - 0s 652us/step - loss: 0.6913 - accuracy: 0.5307\n",
      "Epoch 49/100\n",
      "24/24 [==============================] - 0s 654us/step - loss: 0.6913 - accuracy: 0.5307\n",
      "Epoch 50/100\n",
      "24/24 [==============================] - 0s 652us/step - loss: 0.6913 - accuracy: 0.5307\n",
      "Epoch 51/100\n",
      "24/24 [==============================] - 0s 653us/step - loss: 0.6913 - accuracy: 0.5307\n",
      "Epoch 52/100\n",
      "24/24 [==============================] - 0s 826us/step - loss: 0.6913 - accuracy: 0.5307\n",
      "Epoch 53/100\n",
      "24/24 [==============================] - 0s 727us/step - loss: 0.6913 - accuracy: 0.5307\n",
      "Epoch 54/100\n",
      "24/24 [==============================] - 0s 696us/step - loss: 0.6913 - accuracy: 0.5307\n",
      "Epoch 55/100\n",
      "24/24 [==============================] - 0s 652us/step - loss: 0.6913 - accuracy: 0.5307\n",
      "Epoch 56/100\n",
      "24/24 [==============================] - 0s 696us/step - loss: 0.6913 - accuracy: 0.5307\n",
      "Epoch 57/100\n",
      "24/24 [==============================] - 0s 652us/step - loss: 0.6913 - accuracy: 0.5307\n",
      "Epoch 58/100\n",
      "24/24 [==============================] - 0s 696us/step - loss: 0.6913 - accuracy: 0.5307\n",
      "Epoch 59/100\n",
      "24/24 [==============================] - 0s 654us/step - loss: 0.6913 - accuracy: 0.5307\n",
      "Epoch 60/100\n",
      "24/24 [==============================] - 0s 652us/step - loss: 0.6913 - accuracy: 0.5307\n",
      "Epoch 61/100\n",
      "24/24 [==============================] - 0s 620us/step - loss: 0.6913 - accuracy: 0.5307\n",
      "Epoch 62/100\n",
      "24/24 [==============================] - 0s 653us/step - loss: 0.6913 - accuracy: 0.5307\n",
      "Epoch 63/100\n",
      "24/24 [==============================] - 0s 695us/step - loss: 0.6913 - accuracy: 0.5307\n",
      "Epoch 64/100\n",
      "24/24 [==============================] - 0s 652us/step - loss: 0.6913 - accuracy: 0.5307\n",
      "Epoch 65/100\n",
      "24/24 [==============================] - 0s 652us/step - loss: 0.6913 - accuracy: 0.5307\n",
      "Epoch 66/100\n",
      "24/24 [==============================] - 0s 695us/step - loss: 0.6913 - accuracy: 0.5307\n",
      "Epoch 67/100\n",
      "24/24 [==============================] - 0s 652us/step - loss: 0.6913 - accuracy: 0.5307\n",
      "Epoch 68/100\n",
      "24/24 [==============================] - 0s 695us/step - loss: 0.6913 - accuracy: 0.5307\n",
      "Epoch 69/100\n",
      "24/24 [==============================] - 0s 656us/step - loss: 0.6913 - accuracy: 0.5307\n",
      "Epoch 70/100\n",
      "24/24 [==============================] - 0s 692us/step - loss: 0.6913 - accuracy: 0.5307\n",
      "Epoch 71/100\n",
      "24/24 [==============================] - 0s 753us/step - loss: 0.6913 - accuracy: 0.5307\n",
      "Epoch 72/100\n",
      "24/24 [==============================] - 0s 696us/step - loss: 0.6913 - accuracy: 0.5307\n",
      "Epoch 73/100\n",
      "24/24 [==============================] - 0s 652us/step - loss: 0.6913 - accuracy: 0.5307\n",
      "Epoch 74/100\n",
      "24/24 [==============================] - 0s 696us/step - loss: 0.6913 - accuracy: 0.5307\n",
      "Epoch 75/100\n",
      "24/24 [==============================] - 0s 739us/step - loss: 0.6913 - accuracy: 0.5307\n",
      "Epoch 76/100\n",
      "24/24 [==============================] - 0s 703us/step - loss: 0.6913 - accuracy: 0.5307\n",
      "Epoch 77/100\n",
      "24/24 [==============================] - 0s 652us/step - loss: 0.6913 - accuracy: 0.5307\n",
      "Epoch 78/100\n",
      "24/24 [==============================] - 0s 651us/step - loss: 0.6913 - accuracy: 0.5307\n",
      "Epoch 79/100\n",
      "24/24 [==============================] - 0s 652us/step - loss: 0.6913 - accuracy: 0.5307\n",
      "Epoch 80/100\n",
      "24/24 [==============================] - 0s 696us/step - loss: 0.6913 - accuracy: 0.5307\n",
      "Epoch 81/100\n"
     ]
    },
    {
     "name": "stdout",
     "output_type": "stream",
     "text": [
      "24/24 [==============================] - 0s 652us/step - loss: 0.6913 - accuracy: 0.5307\n",
      "Epoch 82/100\n",
      "24/24 [==============================] - 0s 699us/step - loss: 0.6913 - accuracy: 0.5307\n",
      "Epoch 83/100\n",
      "24/24 [==============================] - 0s 654us/step - loss: 0.6913 - accuracy: 0.5307\n",
      "Epoch 84/100\n",
      "24/24 [==============================] - 0s 653us/step - loss: 0.6913 - accuracy: 0.5307\n",
      "Epoch 85/100\n",
      "24/24 [==============================] - 0s 652us/step - loss: 0.6913 - accuracy: 0.5307\n",
      "Epoch 86/100\n",
      "24/24 [==============================] - 0s 697us/step - loss: 0.6913 - accuracy: 0.5307\n",
      "Epoch 87/100\n",
      "24/24 [==============================] - 0s 652us/step - loss: 0.6913 - accuracy: 0.5307\n",
      "Epoch 88/100\n",
      "24/24 [==============================] - 0s 652us/step - loss: 0.6913 - accuracy: 0.5307\n",
      "Epoch 89/100\n",
      "24/24 [==============================] - 0s 653us/step - loss: 0.6913 - accuracy: 0.5307\n",
      "Epoch 90/100\n",
      "24/24 [==============================] - 0s 696us/step - loss: 0.6913 - accuracy: 0.5307\n",
      "Epoch 91/100\n",
      "24/24 [==============================] - 0s 693us/step - loss: 0.6913 - accuracy: 0.5307\n",
      "Epoch 92/100\n",
      "24/24 [==============================] - 0s 696us/step - loss: 0.6913 - accuracy: 0.5307\n",
      "Epoch 93/100\n",
      "24/24 [==============================] - 0s 652us/step - loss: 0.6913 - accuracy: 0.5307\n",
      "Epoch 94/100\n",
      "24/24 [==============================] - 0s 739us/step - loss: 0.6913 - accuracy: 0.5307\n",
      "Epoch 95/100\n",
      "24/24 [==============================] - 0s 739us/step - loss: 0.6913 - accuracy: 0.5307\n",
      "Epoch 96/100\n",
      "24/24 [==============================] - 0s 739us/step - loss: 0.6913 - accuracy: 0.5307\n",
      "Epoch 97/100\n",
      "24/24 [==============================] - 0s 696us/step - loss: 0.6913 - accuracy: 0.5307\n",
      "Epoch 98/100\n",
      "24/24 [==============================] - 0s 782us/step - loss: 0.6913 - accuracy: 0.5307\n",
      "Epoch 99/100\n",
      "24/24 [==============================] - 0s 696us/step - loss: 0.6913 - accuracy: 0.5307\n",
      "Epoch 100/100\n",
      "24/24 [==============================] - 0s 739us/step - loss: 0.6913 - accuracy: 0.5307\n"
     ]
    }
   ],
   "source": [
    "# Training the model with the nonlinear data\n",
    "model_moon = nn_model.fit(X_moon_train_scaled, y_moon_train, epochs=100, shuffle=True)"
   ]
  },
  {
   "cell_type": "code",
   "execution_count": 18,
   "id": "c1179dc0",
   "metadata": {},
   "outputs": [
    {
     "data": {
      "text/plain": [
       "<AxesSubplot:>"
      ]
     },
     "execution_count": 18,
     "metadata": {},
     "output_type": "execute_result"
    },
    {
     "data": {
      "image/png": "[encoded data removed]",
      "text/plain": [
       "<Figure size 432x288 with 1 Axes>"
      ]
     },
     "metadata": {
      "needs_background": "light"
     },
     "output_type": "display_data"
    }
   ],
   "source": [
    "# Create a DataFrame containing training history\n",
    "history_df = pd.DataFrame(model_moon.history, index=range(1,len(model_moon.history[\"loss\"])+1))\n",
    "\n",
    "# Plot the loss\n",
    "history_df.plot(y=\"loss\")"
   ]
  },
  {
   "cell_type": "code",
   "execution_count": 19,
   "id": "997f25ef",
   "metadata": {},
   "outputs": [
    {
     "data": {
      "text/plain": [
       "<AxesSubplot:>"
      ]
     },
     "execution_count": 19,
     "metadata": {},
     "output_type": "execute_result"
    },
    {
     "data": {
      "image/png": "[encoded data removed]",
      "text/plain": [
       "<Figure size 432x288 with 1 Axes>"
      ]
     },
     "metadata": {
      "needs_background": "light"
     },
     "output_type": "display_data"
    }
   ],
   "source": [
    "# Plot the accuracy\n",
    "history_df.plot(y=\"accuracy\")"
   ]
  },
  {
   "cell_type": "code",
   "execution_count": 20,
   "id": "ff87ef8e",
   "metadata": {},
   "outputs": [],
   "source": [
    "# Generate our new Sequential model\n",
    "new_model = tf.keras.models.Sequential()"
   ]
  },
  {
   "cell_type": "code",
   "execution_count": 21,
   "id": "3be5acf9",
   "metadata": {},
   "outputs": [],
   "source": [
    "# Add the input and hidden layer\n",
    "number_inputs = 2\n",
    "number_hidden_nodes = 6\n",
    "\n",
    "new_model.add(tf.keras.layers.Dense(units=number_hidden_nodes, activation=\"relu\", input_dim=number_inputs))\n",
    "\n",
    "# Add the output layer that uses a probability activation function\n",
    "new_model.add(tf.keras.layers.Dense(units=1, activation=\"sigmoid\"))"
   ]
  },
  {
   "cell_type": "code",
   "execution_count": 22,
   "id": "4e939b7a",
   "metadata": {},
   "outputs": [
    {
     "name": "stdout",
     "output_type": "stream",
     "text": [
      "Epoch 1/100\n",
      "24/24 [==============================] - 0s 831us/step - loss: 0.8399 - accuracy: 0.3720\n",
      "Epoch 2/100\n",
      "24/24 [==============================] - 0s 652us/step - loss: 0.8039 - accuracy: 0.4147\n",
      "Epoch 3/100\n",
      "24/24 [==============================] - 0s 659us/step - loss: 0.7735 - accuracy: 0.4613\n",
      "Epoch 4/100\n",
      "24/24 [==============================] - 0s 652us/step - loss: 0.7470 - accuracy: 0.5013\n",
      "Epoch 5/100\n",
      "24/24 [==============================] - 0s 696us/step - loss: 0.7223 - accuracy: 0.5880\n",
      "Epoch 6/100\n",
      "24/24 [==============================] - 0s 696us/step - loss: 0.6986 - accuracy: 0.6227\n",
      "Epoch 7/100\n",
      "24/24 [==============================] - 0s 695us/step - loss: 0.6750 - accuracy: 0.6613\n",
      "Epoch 8/100\n",
      "24/24 [==============================] - 0s 653us/step - loss: 0.6506 - accuracy: 0.7093\n",
      "Epoch 9/100\n",
      "24/24 [==============================] - 0s 682us/step - loss: 0.6253 - accuracy: 0.7747\n",
      "Epoch 10/100\n",
      "24/24 [==============================] - 0s 651us/step - loss: 0.5992 - accuracy: 0.8267\n",
      "Epoch 11/100\n",
      "24/24 [==============================] - 0s 652us/step - loss: 0.5729 - accuracy: 0.8653\n",
      "Epoch 12/100\n",
      "24/24 [==============================] - 0s 652us/step - loss: 0.5459 - accuracy: 0.8733\n",
      "Epoch 13/100\n",
      "24/24 [==============================] - 0s 652us/step - loss: 0.5197 - accuracy: 0.8840\n",
      "Epoch 14/100\n",
      "24/24 [==============================] - 0s 652us/step - loss: 0.4934 - accuracy: 0.8947\n",
      "Epoch 15/100\n",
      "24/24 [==============================] - 0s 696us/step - loss: 0.4690 - accuracy: 0.8973\n",
      "Epoch 16/100\n",
      "24/24 [==============================] - 0s 695us/step - loss: 0.4456 - accuracy: 0.8973\n",
      "Epoch 17/100\n",
      "24/24 [==============================] - 0s 652us/step - loss: 0.4242 - accuracy: 0.8973\n",
      "Epoch 18/100\n",
      "24/24 [==============================] - 0s 695us/step - loss: 0.4045 - accuracy: 0.8933\n",
      "Epoch 19/100\n",
      "24/24 [==============================] - 0s 652us/step - loss: 0.3867 - accuracy: 0.8920\n",
      "Epoch 20/100\n",
      "24/24 [==============================] - 0s 696us/step - loss: 0.3706 - accuracy: 0.8933\n",
      "Epoch 21/100\n",
      "24/24 [==============================] - 0s 696us/step - loss: 0.3564 - accuracy: 0.8933\n",
      "Epoch 22/100\n",
      "24/24 [==============================] - 0s 700us/step - loss: 0.3434 - accuracy: 0.8933\n",
      "Epoch 23/100\n",
      "24/24 [==============================] - 0s 652us/step - loss: 0.3321 - accuracy: 0.8933\n",
      "Epoch 24/100\n",
      "24/24 [==============================] - 0s 696us/step - loss: 0.3218 - accuracy: 0.8933\n",
      "Epoch 25/100\n",
      "24/24 [==============================] - 0s 652us/step - loss: 0.3130 - accuracy: 0.8960\n",
      "Epoch 26/100\n",
      "24/24 [==============================] - 0s 695us/step - loss: 0.3049 - accuracy: 0.8960\n",
      "Epoch 27/100\n",
      "24/24 [==============================] - 0s 696us/step - loss: 0.2980 - accuracy: 0.8960\n",
      "Epoch 28/100\n",
      "24/24 [==============================] - 0s 652us/step - loss: 0.2918 - accuracy: 0.8960\n",
      "Epoch 29/100\n",
      "24/24 [==============================] - 0s 652us/step - loss: 0.2862 - accuracy: 0.8973\n",
      "Epoch 30/100\n",
      "24/24 [==============================] - 0s 653us/step - loss: 0.2812 - accuracy: 0.8987\n",
      "Epoch 31/100\n",
      "24/24 [==============================] - 0s 652us/step - loss: 0.2767 - accuracy: 0.8987\n",
      "Epoch 32/100\n",
      "24/24 [==============================] - 0s 705us/step - loss: 0.2726 - accuracy: 0.8987\n",
      "Epoch 33/100\n",
      "24/24 [==============================] - 0s 652us/step - loss: 0.2689 - accuracy: 0.9000\n",
      "Epoch 34/100\n",
      "24/24 [==============================] - 0s 664us/step - loss: 0.2654 - accuracy: 0.9013\n",
      "Epoch 35/100\n",
      "24/24 [==============================] - 0s 652us/step - loss: 0.2622 - accuracy: 0.9027\n",
      "Epoch 36/100\n",
      "24/24 [==============================] - 0s 652us/step - loss: 0.2592 - accuracy: 0.9027\n",
      "Epoch 37/100\n",
      "24/24 [==============================] - 0s 652us/step - loss: 0.2565 - accuracy: 0.9040\n",
      "Epoch 38/100\n",
      "24/24 [==============================] - 0s 652us/step - loss: 0.2539 - accuracy: 0.9040\n",
      "Epoch 39/100\n",
      "24/24 [==============================] - 0s 695us/step - loss: 0.2515 - accuracy: 0.9053\n",
      "Epoch 40/100\n",
      "24/24 [==============================] - 0s 652us/step - loss: 0.2492 - accuracy: 0.9053\n",
      "Epoch 41/100\n",
      "24/24 [==============================] - 0s 635us/step - loss: 0.2473 - accuracy: 0.9053\n",
      "Epoch 42/100\n",
      "24/24 [==============================] - 0s 695us/step - loss: 0.2449 - accuracy: 0.9067\n",
      "Epoch 43/100\n",
      "24/24 [==============================] - 0s 661us/step - loss: 0.2430 - accuracy: 0.9067\n",
      "Epoch 44/100\n",
      "24/24 [==============================] - 0s 652us/step - loss: 0.2412 - accuracy: 0.9067\n",
      "Epoch 45/100\n",
      "24/24 [==============================] - 0s 609us/step - loss: 0.2394 - accuracy: 0.9080\n",
      "Epoch 46/100\n",
      "24/24 [==============================] - 0s 652us/step - loss: 0.2376 - accuracy: 0.9080\n",
      "Epoch 47/100\n",
      "24/24 [==============================] - 0s 695us/step - loss: 0.2359 - accuracy: 0.9080\n",
      "Epoch 48/100\n",
      "24/24 [==============================] - 0s 651us/step - loss: 0.2342 - accuracy: 0.9080\n",
      "Epoch 49/100\n",
      "24/24 [==============================] - 0s 652us/step - loss: 0.2326 - accuracy: 0.9080\n",
      "Epoch 50/100\n",
      "24/24 [==============================] - 0s 652us/step - loss: 0.2311 - accuracy: 0.9093\n",
      "Epoch 51/100\n",
      "24/24 [==============================] - 0s 653us/step - loss: 0.2296 - accuracy: 0.9093\n",
      "Epoch 52/100\n",
      "24/24 [==============================] - 0s 638us/step - loss: 0.2284 - accuracy: 0.9093\n",
      "Epoch 53/100\n",
      "24/24 [==============================] - 0s 652us/step - loss: 0.2269 - accuracy: 0.9093\n",
      "Epoch 54/100\n",
      "24/24 [==============================] - 0s 652us/step - loss: 0.2254 - accuracy: 0.9120\n",
      "Epoch 55/100\n",
      "24/24 [==============================] - 0s 652us/step - loss: 0.2242 - accuracy: 0.9120\n",
      "Epoch 56/100\n",
      "24/24 [==============================] - 0s 652us/step - loss: 0.2228 - accuracy: 0.9120\n",
      "Epoch 57/100\n",
      "24/24 [==============================] - 0s 652us/step - loss: 0.2215 - accuracy: 0.9120\n",
      "Epoch 58/100\n",
      "24/24 [==============================] - 0s 609us/step - loss: 0.2202 - accuracy: 0.9120\n",
      "Epoch 59/100\n",
      "24/24 [==============================] - 0s 652us/step - loss: 0.2188 - accuracy: 0.9133\n",
      "Epoch 60/100\n",
      "24/24 [==============================] - 0s 652us/step - loss: 0.2175 - accuracy: 0.9133\n",
      "Epoch 61/100\n",
      "24/24 [==============================] - 0s 653us/step - loss: 0.2164 - accuracy: 0.9133\n",
      "Epoch 62/100\n",
      "24/24 [==============================] - 0s 609us/step - loss: 0.2150 - accuracy: 0.9147\n",
      "Epoch 63/100\n",
      "24/24 [==============================] - 0s 652us/step - loss: 0.2138 - accuracy: 0.9160\n",
      "Epoch 64/100\n",
      "24/24 [==============================] - 0s 652us/step - loss: 0.2126 - accuracy: 0.9173\n",
      "Epoch 65/100\n",
      "24/24 [==============================] - 0s 608us/step - loss: 0.2114 - accuracy: 0.9173\n",
      "Epoch 66/100\n",
      "24/24 [==============================] - 0s 652us/step - loss: 0.2101 - accuracy: 0.9173\n",
      "Epoch 67/100\n",
      "24/24 [==============================] - 0s 652us/step - loss: 0.2088 - accuracy: 0.9187\n",
      "Epoch 68/100\n",
      "24/24 [==============================] - 0s 652us/step - loss: 0.2077 - accuracy: 0.9173\n",
      "Epoch 69/100\n",
      "24/24 [==============================] - 0s 652us/step - loss: 0.2064 - accuracy: 0.9187\n",
      "Epoch 70/100\n",
      "24/24 [==============================] - 0s 652us/step - loss: 0.2051 - accuracy: 0.9200\n",
      "Epoch 71/100\n",
      "24/24 [==============================] - 0s 652us/step - loss: 0.2038 - accuracy: 0.9200\n",
      "Epoch 72/100\n",
      "24/24 [==============================] - 0s 783us/step - loss: 0.2025 - accuracy: 0.9200\n",
      "Epoch 73/100\n",
      "24/24 [==============================] - 0s 656us/step - loss: 0.2013 - accuracy: 0.9227\n",
      "Epoch 74/100\n",
      "24/24 [==============================] - 0s 696us/step - loss: 0.2001 - accuracy: 0.9227\n",
      "Epoch 75/100\n",
      "24/24 [==============================] - 0s 695us/step - loss: 0.1988 - accuracy: 0.9227\n",
      "Epoch 76/100\n",
      "24/24 [==============================] - 0s 696us/step - loss: 0.1976 - accuracy: 0.9227\n",
      "Epoch 77/100\n",
      "24/24 [==============================] - 0s 694us/step - loss: 0.1964 - accuracy: 0.9253\n",
      "Epoch 78/100\n",
      "24/24 [==============================] - 0s 650us/step - loss: 0.1950 - accuracy: 0.9267\n",
      "Epoch 79/100\n",
      "24/24 [==============================] - 0s 652us/step - loss: 0.1938 - accuracy: 0.9267\n",
      "Epoch 80/100\n",
      "24/24 [==============================] - 0s 652us/step - loss: 0.1926 - accuracy: 0.9280\n",
      "Epoch 81/100\n"
     ]
    },
    {
     "name": "stdout",
     "output_type": "stream",
     "text": [
      "24/24 [==============================] - 0s 652us/step - loss: 0.1913 - accuracy: 0.9293\n",
      "Epoch 82/100\n",
      "24/24 [==============================] - 0s 652us/step - loss: 0.1901 - accuracy: 0.9293\n",
      "Epoch 83/100\n",
      "24/24 [==============================] - 0s 652us/step - loss: 0.1889 - accuracy: 0.9320\n",
      "Epoch 84/100\n",
      "24/24 [==============================] - 0s 652us/step - loss: 0.1875 - accuracy: 0.9307\n",
      "Epoch 85/100\n",
      "24/24 [==============================] - 0s 652us/step - loss: 0.1862 - accuracy: 0.9320\n",
      "Epoch 86/100\n",
      "24/24 [==============================] - 0s 703us/step - loss: 0.1849 - accuracy: 0.9320\n",
      "Epoch 87/100\n",
      "24/24 [==============================] - 0s 694us/step - loss: 0.1836 - accuracy: 0.9320\n",
      "Epoch 88/100\n",
      "24/24 [==============================] - 0s 639us/step - loss: 0.1823 - accuracy: 0.9320\n",
      "Epoch 89/100\n",
      "24/24 [==============================] - 0s 696us/step - loss: 0.1810 - accuracy: 0.9320\n",
      "Epoch 90/100\n",
      "24/24 [==============================] - 0s 609us/step - loss: 0.1795 - accuracy: 0.9320\n",
      "Epoch 91/100\n",
      "24/24 [==============================] - 0s 652us/step - loss: 0.1783 - accuracy: 0.9333\n",
      "Epoch 92/100\n",
      "24/24 [==============================] - 0s 652us/step - loss: 0.1769 - accuracy: 0.9333\n",
      "Epoch 93/100\n",
      "24/24 [==============================] - 0s 633us/step - loss: 0.1756 - accuracy: 0.9333\n",
      "Epoch 94/100\n",
      "24/24 [==============================] - 0s 609us/step - loss: 0.1741 - accuracy: 0.9333\n",
      "Epoch 95/100\n",
      "24/24 [==============================] - 0s 652us/step - loss: 0.1728 - accuracy: 0.9360\n",
      "Epoch 96/100\n",
      "24/24 [==============================] - 0s 609us/step - loss: 0.1714 - accuracy: 0.9360\n",
      "Epoch 97/100\n",
      "24/24 [==============================] - 0s 653us/step - loss: 0.1700 - accuracy: 0.9360\n",
      "Epoch 98/100\n",
      "24/24 [==============================] - 0s 609us/step - loss: 0.1686 - accuracy: 0.9360\n",
      "Epoch 99/100\n",
      "24/24 [==============================] - 0s 609us/step - loss: 0.1671 - accuracy: 0.9373\n",
      "Epoch 100/100\n",
      "24/24 [==============================] - 0s 609us/step - loss: 0.1658 - accuracy: 0.9373\n"
     ]
    }
   ],
   "source": [
    "# Compile the Sequential model together and customize metrics\n",
    "new_model.compile(loss=\"binary_crossentropy\", optimizer=\"adam\", metrics=[\"accuracy\"])\n",
    "\n",
    "# Fit the model to the training data\n",
    "new_fit_model = new_model.fit(X_moon_train_scaled, y_moon_train, epochs=100, shuffle=True)\n"
   ]
  },
  {
   "cell_type": "code",
   "execution_count": null,
   "id": "f3747acd",
   "metadata": {},
   "outputs": [],
   "source": []
  }
 ],
 "metadata": {
  "kernelspec": {
   "display_name": "mlenv",
   "language": "python",
   "name": "mlenv"
  },
  "language_info": {
   "codemirror_mode": {
    "name": "ipython",
    "version": 3
   },
   "file_extension": ".py",
   "mimetype": "text/x-python",
   "name": "python",
   "nbconvert_exporter": "python",
   "pygments_lexer": "ipython3",
   "version": "3.7.13"
  }
 },
 "nbformat": 4,
 "nbformat_minor": 5
}
